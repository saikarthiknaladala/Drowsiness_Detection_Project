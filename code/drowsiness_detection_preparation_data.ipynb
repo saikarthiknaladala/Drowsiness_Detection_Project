{
 "cells": [
  {
   "cell_type": "code",
   "execution_count": 28,
   "id": "2004ca80",
   "metadata": {},
   "outputs": [],
   "source": [
    "import os\n",
    "import shutil\n",
    "import glob\n",
    "from tqdm import tqdm"
   ]
  },
  {
   "cell_type": "code",
   "execution_count": 15,
   "id": "4f977d76",
   "metadata": {},
   "outputs": [],
   "source": [
    "original_folder1 = r'/Users/saikarthiknaladala/Downloads/prepared_data/close_eyes'\n",
    "original_folder2 = r'/Users/saikarthiknaladala/Downloads/prepared_data/open_eyes'\n",
    "train_folder = r'/Users/saikarthiknaladala/Downloads/prepared_data/train_data'\n",
    "#train_folder2 = r'/Users/saikarthiknaladala/Downloads/prepared_data/train_data/open_eyes'\n",
    "test_folder = r'/Users/saikarthiknaladala/Downloads/prepared_data/test_data'\n",
    "#test_folder2 = r'/Users/saikarthiknaladala/Downloads/prepared_data/test_data/open_eyes'"
   ]
  },
  {
   "cell_type": "code",
   "execution_count": 16,
   "id": "361192a8",
   "metadata": {},
   "outputs": [],
   "source": [
    "os.mkdir(train_folder)\n",
    "\n",
    "os.mkdir(test_folder)"
   ]
  },
  {
   "cell_type": "markdown",
   "id": "41bba666",
   "metadata": {},
   "source": [
    "subject ID: xxx\n",
    "image number: xxx\n",
    "gender: 0 - male 1 - famale\n",
    "glasses: 0 - no 1 - yes\n",
    "eye state: 0 - close 1 - open\n",
    "reflections: 0 - none 1 - low 2 - high\n",
    "lighting conditions/image quality: 0 - bad 1 - good\n",
    "sensor type: 01 - RealSense SR300 640x480 02 - IDS Imaging, 1280x1024 03 - Aptina Imagin 752x480\n",
    "example: s001_00123_0_0_0_0_0_01.png"
   ]
  },
  {
   "cell_type": "code",
   "execution_count": 30,
   "id": "191ca281",
   "metadata": {},
   "outputs": [
    {
     "name": "stdout",
     "output_type": "stream",
     "text": [
      "['s0001', 's0002', 's0003', 's0004', 's0005', 's0006', 's0007', 's0008', 's0009', 's0010', 's0011', 's0012', 's0013', 's0014', 's0015', 's0016', 's0017', 's0018', 's0019', 's0020', 's0021', 's0022', 's0023', 's0024', 's0025', 's0026', 's0027', 's0028', 's0029', 's0030', 's0031', 's0032', 's0033', 's0034', 's0035', 's0036']\n",
      "['s0037']\n"
     ]
    }
   ],
   "source": [
    "train_list = []\n",
    "test_list = []\n",
    "#validation_list = []\n",
    "t = 's00'\n",
    "for i in range(1,38):\n",
    "    text = ''\n",
    "    if i<10:\n",
    "        text+=t+'0'+str(i)\n",
    "        train_list.append(text)\n",
    "        text = ''\n",
    "    elif i>9 and i<37:\n",
    "        text+=t+str(i)\n",
    "        train_list.append(text)\n",
    "        text = ''\n",
    "    else:\n",
    "        text+=t+str(i)\n",
    "        test_list.append(text)\n",
    "        text = ''\n",
    "print(train_list)\n",
    "print(test_list)\n",
    "        \n",
    "        \n",
    "    "
   ]
  },
  {
   "cell_type": "code",
   "execution_count": 31,
   "id": "e94581ef",
   "metadata": {},
   "outputs": [
    {
     "name": "stderr",
     "output_type": "stream",
     "text": [
      "0it [00:00, ?it/s]\n",
      "100%|█████████████████████████████████████| 1384/1384 [00:00<00:00, 3783.30it/s]\n",
      "100%|███████████████████████████████████| 10257/10257 [00:03<00:00, 3369.75it/s]\n",
      "100%|███████████████████████████████████████| 832/832 [00:00<00:00, 3616.31it/s]\n",
      "100%|█████████████████████████████████████| 3242/3242 [00:00<00:00, 3351.38it/s]\n",
      "100%|█████████████████████████████████████| 1012/1012 [00:00<00:00, 3684.10it/s]\n",
      "100%|███████████████████████████████████████| 624/624 [00:00<00:00, 4194.45it/s]\n",
      "100%|█████████████████████████████████████| 6193/6193 [00:01<00:00, 3268.58it/s]\n",
      "100%|███████████████████████████████████████| 387/387 [00:00<00:00, 4183.28it/s]\n",
      "100%|█████████████████████████████████████| 1738/1738 [00:00<00:00, 2895.25it/s]\n",
      "100%|█████████████████████████████████████| 3605/3605 [00:01<00:00, 3246.93it/s]\n",
      "100%|█████████████████████████████████████| 8884/8884 [00:02<00:00, 3256.20it/s]\n",
      "100%|███████████████████████████████████████| 382/382 [00:00<00:00, 2912.08it/s]\n",
      "100%|█████████████████████████████████████| 1502/1502 [00:00<00:00, 3586.69it/s]\n",
      "100%|███████████████████████████████████████| 752/752 [00:00<00:00, 3580.64it/s]\n",
      "100%|███████████████████████████████████████| 522/522 [00:00<00:00, 4398.97it/s]\n",
      "100%|█████████████████████████████████████| 1132/1132 [00:00<00:00, 3377.18it/s]\n",
      "100%|█████████████████████████████████████| 8728/8728 [00:02<00:00, 3122.70it/s]\n",
      "100%|███████████████████████████████████████| 739/739 [00:00<00:00, 2717.75it/s]\n",
      "100%|███████████████████████████████████████| 681/681 [00:00<00:00, 3006.44it/s]\n",
      "100%|███████████████████████████████████████| 736/736 [00:00<00:00, 3425.24it/s]\n",
      "100%|█████████████████████████████████████| 1114/1114 [00:00<00:00, 3116.45it/s]\n",
      "100%|███████████████████████████████████████| 679/679 [00:00<00:00, 2933.59it/s]\n",
      "100%|█████████████████████████████████████| 1069/1069 [00:00<00:00, 3005.94it/s]\n",
      "100%|█████████████████████████████████████| 6162/6162 [00:02<00:00, 2827.17it/s]\n",
      "100%|███████████████████████████████████████| 642/642 [00:00<00:00, 2795.09it/s]\n",
      "100%|███████████████████████████████████████| 736/736 [00:00<00:00, 3011.73it/s]\n",
      "100%|█████████████████████████████████████| 1648/1648 [00:00<00:00, 3118.37it/s]\n",
      "100%|███████████████████████████████████████| 399/399 [00:00<00:00, 2818.71it/s]\n",
      "100%|█████████████████████████████████████| 6175/6175 [00:02<00:00, 2952.01it/s]\n",
      "100%|█████████████████████████████████████| 1246/1246 [00:00<00:00, 2924.00it/s]\n",
      "100%|███████████████████████████████████████| 987/987 [00:00<00:00, 3189.55it/s]\n",
      "100%|███████████████████████████████████████| 704/704 [00:00<00:00, 3652.54it/s]\n",
      "100%|█████████████████████████████████████| 4410/4410 [00:01<00:00, 3021.51it/s]\n",
      "100%|███████████████████████████████████████| 665/665 [00:00<00:00, 2663.13it/s]\n",
      "100%|█████████████████████████████████████| 1648/1648 [00:00<00:00, 3107.19it/s]\n",
      "100%|█████████████████████████████████████| 1393/1393 [00:00<00:00, 3053.81it/s]\n",
      "100%|█████████████████████████████████████| 1889/1889 [00:00<00:00, 2979.62it/s]\n"
     ]
    }
   ],
   "source": [
    "raw_dir = r'/Users/saikarthiknaladala/Downloads/mrlEyes_2018_01'\n",
    "for dirpath, dirname, filenames in os.walk(raw_dir):\n",
    "    for i in tqdm([f for f in filenames if f.endswith('.png')]):\n",
    "        if i.split(\"_\")[4]=='0':\n",
    "            if i.split(\"_\")[0] in train_list:\n",
    "                shutil.copy(src=dirpath+'/'+i,dst=r'/Users/saikarthiknaladala/Downloads/prepared_data/train/close_eyes')\n",
    "            elif i.split(\"_\")[0] in test_list:\n",
    "                shutil.copy(src=dirpath+'/'+i,dst=r'/Users/saikarthiknaladala/Downloads/prepared_data/test/close_eyes')\n",
    "        elif i.split(\"_\")[4]=='1':\n",
    "            if i.split(\"_\")[0] in train_list:\n",
    "                shutil.copy(src=dirpath+'/'+i,dst=r'/Users/saikarthiknaladala/Downloads/prepared_data/train/open_eyes')\n",
    "            elif i.split(\"_\")[0] in test_list:\n",
    "                shutil.copy(src=dirpath+'/'+i,dst=r'/Users/saikarthiknaladala/Downloads/prepared_data/test/open_eyes')\n",
    "            "
   ]
  },
  {
   "cell_type": "code",
   "execution_count": null,
   "id": "553733de",
   "metadata": {},
   "outputs": [],
   "source": []
  }
 ],
 "metadata": {
  "kernelspec": {
   "display_name": "Python 3 (ipykernel)",
   "language": "python",
   "name": "python3"
  },
  "language_info": {
   "codemirror_mode": {
    "name": "ipython",
    "version": 3
   },
   "file_extension": ".py",
   "mimetype": "text/x-python",
   "name": "python",
   "nbconvert_exporter": "python",
   "pygments_lexer": "ipython3",
   "version": "3.11.4"
  }
 },
 "nbformat": 4,
 "nbformat_minor": 5
}
